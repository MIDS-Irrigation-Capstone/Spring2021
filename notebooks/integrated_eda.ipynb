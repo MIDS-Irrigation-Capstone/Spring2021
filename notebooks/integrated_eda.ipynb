{
 "cells": [
  {
   "cell_type": "markdown",
   "metadata": {
    "colab_type": "text",
    "id": "TTQGRwsT1CiC"
   },
   "source": [
    "# IntegratingSpring 2021\n",
    "### Chitra Agastya\n",
    "\n",
    "This notebook is used to integrate the individual, serialized dataframes. We explore the metadata to get some descriptive statistics about our model. "
   ]
  },
  {
   "cell_type": "code",
   "execution_count": 15,
   "metadata": {
    "colab": {
     "base_uri": "https://localhost:8080/",
     "height": 51
    },
    "colab_type": "code",
    "executionInfo": {
     "elapsed": 2988,
     "status": "ok",
     "timestamp": 1600813538456,
     "user": {
      "displayName": "Thomas Goter",
      "photoUrl": "",
      "userId": "00883949598941594885"
     },
     "user_tz": 240
    },
    "id": "1VePcq7oxv-_",
    "outputId": "1266773a-9cd3-4310-b702-09425955432b"
   },
   "outputs": [],
   "source": [
    "import pandas as pd\n",
    "import tensorflow as tf\n",
    "from glob import glob\n",
    "import os\n",
    "from matplotlib import pyplot as plt\n",
    "%matplotlib inline\n",
    "import numpy as np\n",
    "from tqdm import tqdm\n",
    "import seaborn as sns\n",
    "from matplotlib.cm import get_cmap\n",
    "import folium"
   ]
  },
  {
   "cell_type": "code",
   "execution_count": 16,
   "metadata": {
    "colab": {
     "base_uri": "https://localhost:8080/",
     "height": 51
    },
    "colab_type": "code",
    "executionInfo": {
     "elapsed": 2978,
     "status": "ok",
     "timestamp": 1600813538457,
     "user": {
      "displayName": "Thomas Goter",
      "photoUrl": "",
      "userId": "00883949598941594885"
     },
     "user_tz": 240
    },
    "id": "zr_cDCfwx3Bf",
    "outputId": "50729b46-f989-4409-ab3d-82e758639d4d"
   },
   "outputs": [
    {
     "name": "stdout",
     "output_type": "stream",
     "text": [
      "1.2.2\n",
      "2.4.1\n"
     ]
    }
   ],
   "source": [
    "print(pd.__version__)\n",
    "print(tf.__version__)\n",
    "sns.set()"
   ]
  },
  {
   "cell_type": "markdown",
   "metadata": {
    "colab_type": "text",
    "id": "d-R5sO7q2lmC"
   },
   "source": [
    "### Set Paths to Data\n",
    "Data is actually kept in a folder shared with me. In order to access it from Colab, I added a shortcut to the Shared Folder to my 'My Drive' folder on Google Drive. A link is created that allows me to create the path below to get to the actual data without having to copy it back to my personal drive."
   ]
  },
  {
   "cell_type": "code",
   "execution_count": 17,
   "metadata": {
    "colab": {},
    "colab_type": "code",
    "id": "zgG896Sfyf23"
   },
   "outputs": [
    {
     "name": "stdout",
     "output_type": "stream",
     "text": [
      "79\n"
     ]
    }
   ],
   "source": [
    "sentinel_path = '/home/cagastya/hdd/gee_central_valley'\n",
    "patches = [os.path.join(sentinel_path, x) for x in os.listdir(sentinel_path)]\n",
    "print(len(patches))"
   ]
  },
  {
   "cell_type": "markdown",
   "metadata": {
    "colab_type": "text",
    "id": "UdpPw0Jq25zp"
   },
   "source": [
    "### Gather Serialzed DataFrames\n",
    "Get a list of all the pkl files we need to process"
   ]
  },
  {
   "cell_type": "code",
   "execution_count": 19,
   "metadata": {
    "colab": {
     "base_uri": "https://localhost:8080/",
     "height": 1000
    },
    "colab_type": "code",
    "executionInfo": {
     "elapsed": 3350,
     "status": "ok",
     "timestamp": 1600813599213,
     "user": {
      "displayName": "Thomas Goter",
      "photoUrl": "",
      "userId": "00883949598941594885"
     },
     "user_tz": 240
    },
    "id": "Zjhpf3XOyr6j",
    "outputId": "45626e94-bec9-4848-e68f-9184457b293a"
   },
   "outputs": [
    {
     "name": "stdout",
     "output_type": "stream",
     "text": [
      "79\n"
     ]
    },
    {
     "data": {
      "text/plain": [
       "['/home/cagastya/hdd/gee_central_valley/Chico_S2SR_9_2019_39.625_-121.875/Chico_S2SR_9_2019_39.625_-121.875.pkl.clean',\n",
       " '/home/cagastya/hdd/gee_central_valley/Modesto_S2SR_11_2019_37.875_-121.375/Modesto_S2SR_11_2019_37.875_-121.375.pkl.clean',\n",
       " '/home/cagastya/hdd/gee_central_valley/Bakersfield_S2SR_9_2019_35.125_-119.125/Bakersfield_S2SR_9_2019_35.125_-119.125.pkl.clean',\n",
       " '/home/cagastya/hdd/gee_central_valley/Merced_S2SR_4_2019_37.375_-120.375/Merced_S2SR_4_2019_37.375_-120.375.pkl.clean',\n",
       " '/home/cagastya/hdd/gee_central_valley/Modesto_S2SR_10_2019_37.625_-120.625/Modesto_S2SR_10_2019_37.625_-120.625.pkl.clean',\n",
       " '/home/cagastya/hdd/gee_central_valley/Chico_S2SR_11_2019_39.375_-121.625/Chico_S2SR_11_2019_39.375_-121.625.pkl.clean',\n",
       " '/home/cagastya/hdd/gee_central_valley/Modesto_S2SR_8_2019_37.625_-121.125/Modesto_S2SR_8_2019_37.625_-121.125.pkl.clean',\n",
       " '/home/cagastya/hdd/gee_central_valley/Fresno_S2SR_3_2019_36.875_-120.625/Fresno_S2SR_3_2019_36.875_-120.625.pkl.clean',\n",
       " '/home/cagastya/hdd/gee_central_valley/Delano_S2SR_5_2019_35.875_-119.125/Delano_S2SR_5_2019_35.875_-119.125.pkl.clean',\n",
       " '/home/cagastya/hdd/gee_central_valley/Merced_S2SR_9_2019_37.125_-120.625/Merced_S2SR_9_2019_37.125_-120.625.pkl.clean',\n",
       " '/home/cagastya/hdd/gee_central_valley/Sacramento_S2SR_11_2019_38.875_-121.875/Sacramento_S2SR_11_2019_38.875_-121.875.pkl.clean',\n",
       " '/home/cagastya/hdd/gee_central_valley/Bakersfield_S2SR_6_2019_35.375_-119.125/Bakersfield_S2SR_6_2019_35.375_-119.125.pkl.clean',\n",
       " '/home/cagastya/hdd/gee_central_valley/Sacramento_S2SR_3_2019_38.625_-121.875/Sacramento_S2SR_3_2019_38.625_-121.875.pkl.clean',\n",
       " '/home/cagastya/hdd/gee_central_valley/Sacramento_S2SR_9_2019_38.125_-121.875/Sacramento_S2SR_9_2019_38.125_-121.875.pkl.clean',\n",
       " '/home/cagastya/hdd/gee_central_valley/Bakersfield_S2SR_1_2019_35.125_-119.375/Bakersfield_S2SR_1_2019_35.125_-119.375.pkl.clean',\n",
       " '/home/cagastya/hdd/gee_central_valley/Mexicali_S2SR_4_2019_32.875_-115.875/Mexicali_S2SR_4_2019_32.875_-115.875.pkl.clean',\n",
       " '/home/cagastya/hdd/gee_central_valley/Sacramento_S2SR_9_2019_38.875_-121.625/Sacramento_S2SR_9_2019_38.875_-121.625.pkl.clean',\n",
       " '/home/cagastya/hdd/gee_central_valley/Delano_S2SR_1_2019_35.875_-119.375/Delano_S2SR_1_2019_35.875_-119.375.pkl.clean',\n",
       " '/home/cagastya/hdd/gee_central_valley/Sacramento_S2SR_9_2019_38.375_-121.375/Sacramento_S2SR_9_2019_38.375_-121.375.pkl.clean',\n",
       " '/home/cagastya/hdd/gee_central_valley/Bakersfield_S2SR_3_2019_35.375_-118.875/Bakersfield_S2SR_3_2019_35.375_-118.875.pkl.clean',\n",
       " '/home/cagastya/hdd/gee_central_valley/Mexicali_S2SR_7_2019_32.625_-115.875/Mexicali_S2SR_7_2019_32.625_-115.875.pkl.clean',\n",
       " '/home/cagastya/hdd/gee_central_valley/Chico_S2SR_4_2019_39.375_-122.375/Chico_S2SR_4_2019_39.375_-122.375.pkl.clean',\n",
       " '/home/cagastya/hdd/gee_central_valley/Modesto_S2SR_9_2019_37.875_-120.875/Modesto_S2SR_9_2019_37.875_-120.875.pkl.clean',\n",
       " '/home/cagastya/hdd/gee_central_valley/Modesto_S2SR_6_2019_37.875_-121.125/Modesto_S2SR_6_2019_37.875_-121.125.pkl.clean',\n",
       " '/home/cagastya/hdd/gee_central_valley/Fresno_S2SR_2_2019_36.625_-120.625/Fresno_S2SR_2_2019_36.625_-120.625.pkl.clean',\n",
       " '/home/cagastya/hdd/gee_central_valley/Chico_S2SR_11_2019_39.875_-121.625/Chico_S2SR_11_2019_39.875_-121.625.pkl.clean',\n",
       " '/home/cagastya/hdd/gee_central_valley/Merced_S2SR_8_2019_37.125_-120.875/Merced_S2SR_8_2019_37.125_-120.875.pkl.clean',\n",
       " '/home/cagastya/hdd/gee_central_valley/Sacramento_S2SR_9_2019_38.875_-121.375/Sacramento_S2SR_9_2019_38.875_-121.375.pkl.clean',\n",
       " '/home/cagastya/hdd/gee_central_valley/Visalia_S2SR_3_2019_36.125_-119.275/Visalia_S2SR_3_2019_36.125_-119.275.pkl.clean',\n",
       " '/home/cagastya/hdd/gee_central_valley/Sacramento_S2SR_10_2019_38.625_-121.375/Sacramento_S2SR_10_2019_38.625_-121.375.pkl.clean',\n",
       " '/home/cagastya/hdd/gee_central_valley/Merced_S2SR_9_2019_37.375_-120.125/Merced_S2SR_9_2019_37.375_-120.125.pkl.clean',\n",
       " '/home/cagastya/hdd/gee_central_valley/Sacramento_S2SR_11_2019_38.625_-121.625/Sacramento_S2SR_11_2019_38.625_-121.625.pkl.clean',\n",
       " '/home/cagastya/hdd/gee_central_valley/Fresno_S2SR_10_2019_36.625_-120.125/Fresno_S2SR_10_2019_36.625_-120.125.pkl.clean',\n",
       " '/home/cagastya/hdd/gee_central_valley/Mexicali_S2SR_10_2019_32.875_-115.375/Mexicali_S2SR_10_2019_32.875_-115.375.pkl.clean',\n",
       " '/home/cagastya/hdd/gee_central_valley/Modesto_S2SR_6_2019_37.625_-121.375/Modesto_S2SR_6_2019_37.625_-121.375.pkl.clean',\n",
       " '/home/cagastya/hdd/gee_central_valley/Bakersfield_S2SR_3_2019_35.125_-118.875/Bakersfield_S2SR_3_2019_35.125_-118.875.pkl.clean',\n",
       " '/home/cagastya/hdd/gee_central_valley/Visalia_S2SR_9_2019_36.125_-119.775/Visalia_S2SR_9_2019_36.125_-119.775.pkl.clean',\n",
       " '/home/cagastya/hdd/gee_central_valley/Modesto_S2SR_10_2019_37.625_-120.875/Modesto_S2SR_10_2019_37.625_-120.875.pkl.clean',\n",
       " '/home/cagastya/hdd/gee_central_valley/Bakersfield_S2SR_4_2019_35.375_-119.375/Bakersfield_S2SR_4_2019_35.375_-119.375.pkl.clean',\n",
       " '/home/cagastya/hdd/gee_central_valley/Sacramento_S2SR_5_2019_38.125_-121.625/Sacramento_S2SR_5_2019_38.125_-121.625.pkl.clean',\n",
       " '/home/cagastya/hdd/gee_central_valley/Visalia_S2SR_6_2019_36.375_-119.525/Visalia_S2SR_6_2019_36.375_-119.525.pkl.clean',\n",
       " '/home/cagastya/hdd/gee_central_valley/Chico_S2SR_6_2019_39.375_-122.125/Chico_S2SR_6_2019_39.375_-122.125.pkl.clean',\n",
       " '/home/cagastya/hdd/gee_central_valley/Sacramento_S2SR_10_2019_38.375_-121.125/Sacramento_S2SR_10_2019_38.375_-121.125.pkl.clean',\n",
       " '/home/cagastya/hdd/gee_central_valley/Chico_S2SR_6_2019_39.875_-122.375/Chico_S2SR_6_2019_39.875_-122.375.pkl.clean',\n",
       " '/home/cagastya/hdd/gee_central_valley/Sacramento_S2SR_6_2019_38.125_-121.375/Sacramento_S2SR_6_2019_38.125_-121.375.pkl.clean',\n",
       " '/home/cagastya/hdd/gee_central_valley/Fresno_S2SR_6_2019_36.625_-120.375/Fresno_S2SR_6_2019_36.625_-120.375.pkl.clean',\n",
       " '/home/cagastya/hdd/gee_central_valley/Chico_S2SR_12_2019_39.875_-121.875/Chico_S2SR_12_2019_39.875_-121.875.pkl.clean',\n",
       " '/home/cagastya/hdd/gee_central_valley/Fresno_S2SR_10_2019_36.875_-119.875/Fresno_S2SR_10_2019_36.875_-119.875.pkl.clean',\n",
       " '/home/cagastya/hdd/gee_central_valley/Sacramento_S2SR_8_2019_38.375_-121.875/Sacramento_S2SR_8_2019_38.375_-121.875.pkl.clean',\n",
       " '/home/cagastya/hdd/gee_central_valley/Chico_S2SR_3_2019_39.375_-121.875/Chico_S2SR_3_2019_39.375_-121.875.pkl.clean',\n",
       " '/home/cagastya/hdd/gee_central_valley/Sacramento_S2SR_6_2019_38.375_-121.625/Sacramento_S2SR_6_2019_38.375_-121.625.pkl.clean',\n",
       " '/home/cagastya/hdd/gee_central_valley/Fresno_S2SR_1_2019_36.875_-120.375/Fresno_S2SR_1_2019_36.875_-120.375.pkl.clean',\n",
       " '/home/cagastya/hdd/gee_central_valley/Merced_S2SR_3_2019_37.375_-120.625/Merced_S2SR_3_2019_37.375_-120.625.pkl.clean',\n",
       " '/home/cagastya/hdd/gee_central_valley/Chico_S2SR_6_2019_39.625_-122.125/Chico_S2SR_6_2019_39.625_-122.125.pkl.clean',\n",
       " '/home/cagastya/hdd/gee_central_valley/Chico_S2SR_6_2019_39.625_-121.625/Chico_S2SR_6_2019_39.625_-121.625.pkl.clean',\n",
       " '/home/cagastya/hdd/gee_central_valley/Sacramento_S2SR_6_2019_38.125_-121.125/Sacramento_S2SR_6_2019_38.125_-121.125.pkl.clean',\n",
       " '/home/cagastya/hdd/gee_central_valley/Merced_S2SR_11_2019_37.125_-120.125/Merced_S2SR_11_2019_37.125_-120.125.pkl.clean',\n",
       " '/home/cagastya/hdd/gee_central_valley/Mexicali_S2SR_3_2019_33.125_-115.625/Mexicali_S2SR_3_2019_33.125_-115.625.pkl.clean',\n",
       " '/home/cagastya/hdd/gee_central_valley/Chico_S2SR_8_2019_39.125_-122.125/Chico_S2SR_8_2019_39.125_-122.125.pkl.clean',\n",
       " '/home/cagastya/hdd/gee_central_valley/Fresno_S2SR_9_2019_36.875_-120.125/Fresno_S2SR_9_2019_36.875_-120.125.pkl.clean',\n",
       " '/home/cagastya/hdd/gee_central_valley/Fresno_S2SR_8_2019_36.625_-119.875/Fresno_S2SR_8_2019_36.625_-119.875.pkl.clean',\n",
       " '/home/cagastya/hdd/gee_central_valley/Delano_S2SR_6_2019_35.625_-119.125/Delano_S2SR_6_2019_35.625_-119.125.pkl.clean',\n",
       " '/home/cagastya/hdd/gee_central_valley/Merced_S2SR_2_2019_37.375_-120.875/Merced_S2SR_2_2019_37.375_-120.875.pkl.clean',\n",
       " '/home/cagastya/hdd/gee_central_valley/Chico_S2SR_4_2019_39.625_-122.375/Chico_S2SR_4_2019_39.625_-122.375.pkl.clean',\n",
       " '/home/cagastya/hdd/gee_central_valley/Visalia_S2SR_6_2019_36.375_-119.775/Visalia_S2SR_6_2019_36.375_-119.775.pkl.clean',\n",
       " '/home/cagastya/hdd/gee_central_valley/Chico_S2SR_3_2019_39.125_-121.875/Chico_S2SR_3_2019_39.125_-121.875.pkl.clean',\n",
       " '/home/cagastya/hdd/gee_central_valley/Modesto_S2SR_4_2019_37.875_-120.625/Modesto_S2SR_4_2019_37.875_-120.625.pkl.clean',\n",
       " '/home/cagastya/hdd/gee_central_valley/Chico_S2SR_7_2019_39.875_-122.125/Chico_S2SR_7_2019_39.875_-122.125.pkl.clean',\n",
       " '/home/cagastya/hdd/gee_central_valley/Visalia_S2SR_8_2019_36.125_-120.025/Visalia_S2SR_8_2019_36.125_-120.025.pkl.clean',\n",
       " '/home/cagastya/hdd/gee_central_valley/Mexicali_S2SR_10_2019_32.625_-115.125/Mexicali_S2SR_10_2019_32.625_-115.125.pkl.clean',\n",
       " '/home/cagastya/hdd/gee_central_valley/Chico_S2SR_10_2019_39.125_-122.375/Chico_S2SR_10_2019_39.125_-122.375.pkl.clean',\n",
       " '/home/cagastya/hdd/gee_central_valley/Sacramento_S2SR_5_2019_38.625_-121.125/Sacramento_S2SR_5_2019_38.625_-121.125.pkl.clean',\n",
       " '/home/cagastya/hdd/gee_central_valley/Sacramento_S2SR_11_2019_38.875_-121.125/Sacramento_S2SR_11_2019_38.875_-121.125.pkl.clean',\n",
       " '/home/cagastya/hdd/gee_central_valley/Visalia_S2SR_2_2019_36.375_-120.025/Visalia_S2SR_2_2019_36.375_-120.025.pkl.clean',\n",
       " '/home/cagastya/hdd/gee_central_valley/Visalia_S2SR_7_2019_36.125_-119.525/Visalia_S2SR_7_2019_36.125_-119.525.pkl.clean',\n",
       " '/home/cagastya/hdd/gee_central_valley/Visalia_S2SR_1_2019_36.375_-119.275/Visalia_S2SR_1_2019_36.375_-119.275.pkl.clean',\n",
       " '/home/cagastya/hdd/gee_central_valley/Delano_S2SR_12_2019_35.625_-119.375/Delano_S2SR_12_2019_35.625_-119.375.pkl.clean',\n",
       " '/home/cagastya/hdd/gee_central_valley/Chico_S2SR_4_2019_39.125_-121.625/Chico_S2SR_4_2019_39.125_-121.625.pkl.clean',\n",
       " '/home/cagastya/hdd/gee_central_valley/Merced_S2SR_7_2019_37.125_-120.375/Merced_S2SR_7_2019_37.125_-120.375.pkl.clean']"
      ]
     },
     "execution_count": 19,
     "metadata": {},
     "output_type": "execute_result"
    }
   ],
   "source": [
    "pkl_dfs = []\n",
    "for d in patches:\n",
    "    pdf = [pdf for pdf in os.listdir(d) if '.pkl.clean' == pdf[-10:]]\n",
    "    if pdf:\n",
    "        pkl_dfs.append(os.path.join(d, pdf[0]))\n",
    "    \n",
    "#pkl_dfs = [pdf for pdf in os.listdir(sentinel_path) if '.pkl' == pdf[-4:]]\n",
    "print(len(pkl_dfs))\n",
    "pkl_dfs"
   ]
  },
  {
   "cell_type": "markdown",
   "metadata": {},
   "source": [
    "## Check how many have negative pixels"
   ]
  },
  {
   "cell_type": "code",
   "execution_count": 21,
   "metadata": {},
   "outputs": [
    {
     "name": "stderr",
     "output_type": "stream",
     "text": [
      "100%|██████████| 79/79 [03:58<00:00,  3.03s/it]"
     ]
    },
    {
     "name": "stdout",
     "output_type": "stream",
     "text": [
      "Total Bad: 0 Total Img: 50194 Percent: 0.0\n"
     ]
    },
    {
     "name": "stderr",
     "output_type": "stream",
     "text": [
      "\n"
     ]
    }
   ],
   "source": [
    "from collections import defaultdict \n",
    "\n",
    "#for k in x.keys():\n",
    "#    if k.startswith('B'):\n",
    "#        #cnt = cnt + 1 if (x[k] < 0).any() else cnt\n",
    "#        badcnt = badcnt + 1 if (x[k] < 0).any() else badcnt\n",
    "#        if badcnt:\n",
    "#           break \n",
    "\n",
    "def get_keys(d):\n",
    "    return list(d.keys())\n",
    "\n",
    "def is_any_band_invalid(img_splt):\n",
    "    for k in img_splt.keys():\n",
    "        if k.startswith('B'):\n",
    "            if (img_splt[k] < 0).any():\n",
    "                return True\n",
    "    return False\n",
    "\n",
    "def checkNegatives(df):\n",
    "    badImage = 0\n",
    "    for x in df:\n",
    "        if is_any_band_invalid(x):\n",
    "            badImage += 1\n",
    "    return badImage\n",
    "             \n",
    "\n",
    "bad_cnt = total_cnt = 0\n",
    "# Loop over our pickle files\n",
    "for pdf in tqdm(pkl_dfs):\n",
    "#for i in range(1):\n",
    "    # Read in each pickle file\n",
    "    df = list(pd.read_pickle(pdf).values())\n",
    "    #df = list(pd.read_pickle(pkl_dfs[i]).values())\n",
    "    #print(df)\n",
    "    bad_cnt += checkNegatives(df)\n",
    "    total_cnt += len(df)\n",
    "    \n",
    "    \n",
    "print(f'Total Bad: {bad_cnt} Total Img: {total_cnt} Percent: {bad_cnt/total_cnt * 100}')"
   ]
  },
  {
   "cell_type": "markdown",
   "metadata": {},
   "source": [
    "## Check If Cloud and Cirrus Bit Masks are Set\n",
    "\n",
    "The presence of very high integer values in the data indicates that the cloud mask might be set."
   ]
  },
  {
   "cell_type": "code",
   "execution_count": 15,
   "metadata": {},
   "outputs": [],
   "source": [
    "def get_keys(d):\n",
    "    #print(d.keys())\n",
    "    return list(d.keys())\n",
    "\n",
    "# Check for the cloud and cirrus bit adn see if it is set for the ones with high negative values\n",
    "def replace_negatives_with_NaN(df):\n",
    "    for k in get_keys(df):\n",
    "        if k.startswith('B'):\n",
    "            df[k] = np.where(df[k] < 0, np.nan, df[k])\n",
    "    return df\n",
    "    \n"
   ]
  },
  {
   "cell_type": "code",
   "execution_count": null,
   "metadata": {},
   "outputs": [],
   "source": [
    "for i in range(1):\n",
    "    # Read in each pickle file\n",
    "    row = 0\n",
    "    df = list(pd.read_pickle(pkl_dfs[i]).values())\n",
    "    for x in df:\n",
    "        #print(x)\n",
    "        result = replace_negatives_with_NaN(x)\n",
    "        print(result)\n",
    "        row += 1\n",
    "        if row == 1:\n",
    "            break\n",
    "    #rdfs.append(df)\n",
    "    #rdfs.append(compute_band_means2(df))"
   ]
  },
  {
   "cell_type": "code",
   "execution_count": 26,
   "metadata": {
    "tags": [
     "draft"
    ]
   },
   "outputs": [
    {
     "name": "stderr",
     "output_type": "stream",
     "text": [
      " 39%|███▉      | 31/79 [01:06<01:43,  2.16s/it]\n"
     ]
    },
    {
     "ename": "KeyboardInterrupt",
     "evalue": "",
     "output_type": "error",
     "traceback": [
      "\u001b[0;31m---------------------------------------------------------------------------\u001b[0m",
      "\u001b[0;31mKeyboardInterrupt\u001b[0m                         Traceback (most recent call last)",
      "\u001b[0;32m<ipython-input-26-c557a0e63378>\u001b[0m in \u001b[0;36m<module>\u001b[0;34m\u001b[0m\n\u001b[1;32m     21\u001b[0m \u001b[0;31m#for i in range(1):\u001b[0m\u001b[0;34m\u001b[0m\u001b[0;34m\u001b[0m\u001b[0;34m\u001b[0m\u001b[0m\n\u001b[1;32m     22\u001b[0m     \u001b[0;31m# Read in each pickle file\u001b[0m\u001b[0;34m\u001b[0m\u001b[0;34m\u001b[0m\u001b[0;34m\u001b[0m\u001b[0m\n\u001b[0;32m---> 23\u001b[0;31m     \u001b[0mdf\u001b[0m \u001b[0;34m=\u001b[0m \u001b[0mlist\u001b[0m\u001b[0;34m(\u001b[0m\u001b[0mpd\u001b[0m\u001b[0;34m.\u001b[0m\u001b[0mread_pickle\u001b[0m\u001b[0;34m(\u001b[0m\u001b[0mpdf\u001b[0m\u001b[0;34m)\u001b[0m\u001b[0;34m.\u001b[0m\u001b[0mvalues\u001b[0m\u001b[0;34m(\u001b[0m\u001b[0;34m)\u001b[0m\u001b[0;34m)\u001b[0m\u001b[0;34m\u001b[0m\u001b[0;34m\u001b[0m\u001b[0m\n\u001b[0m\u001b[1;32m     24\u001b[0m     \u001b[0;31m#rdfs.append(df)\u001b[0m\u001b[0;34m\u001b[0m\u001b[0;34m\u001b[0m\u001b[0;34m\u001b[0m\u001b[0m\n\u001b[1;32m     25\u001b[0m     \u001b[0mrdfs\u001b[0m\u001b[0;34m.\u001b[0m\u001b[0mappend\u001b[0m\u001b[0;34m(\u001b[0m\u001b[0mcompute_band_means2\u001b[0m\u001b[0;34m(\u001b[0m\u001b[0mdf\u001b[0m\u001b[0;34m)\u001b[0m\u001b[0;34m)\u001b[0m\u001b[0;34m\u001b[0m\u001b[0;34m\u001b[0m\u001b[0m\n",
      "\u001b[0;32m~/.local/lib/python3.8/site-packages/pandas/io/pickle.py\u001b[0m in \u001b[0;36mread_pickle\u001b[0;34m(filepath_or_buffer, compression, storage_options)\u001b[0m\n\u001b[1;32m    201\u001b[0m                     \u001b[0;31m# We want to silence any warnings about, e.g. moved modules.\u001b[0m\u001b[0;34m\u001b[0m\u001b[0;34m\u001b[0m\u001b[0;34m\u001b[0m\u001b[0m\n\u001b[1;32m    202\u001b[0m                     \u001b[0mwarnings\u001b[0m\u001b[0;34m.\u001b[0m\u001b[0msimplefilter\u001b[0m\u001b[0;34m(\u001b[0m\u001b[0;34m\"ignore\"\u001b[0m\u001b[0;34m,\u001b[0m \u001b[0mWarning\u001b[0m\u001b[0;34m)\u001b[0m\u001b[0;34m\u001b[0m\u001b[0;34m\u001b[0m\u001b[0m\n\u001b[0;32m--> 203\u001b[0;31m                     \u001b[0;32mreturn\u001b[0m \u001b[0mpickle\u001b[0m\u001b[0;34m.\u001b[0m\u001b[0mload\u001b[0m\u001b[0;34m(\u001b[0m\u001b[0mhandles\u001b[0m\u001b[0;34m.\u001b[0m\u001b[0mhandle\u001b[0m\u001b[0;34m)\u001b[0m  \u001b[0;31m# type: ignore[arg-type]\u001b[0m\u001b[0;34m\u001b[0m\u001b[0;34m\u001b[0m\u001b[0m\n\u001b[0m\u001b[1;32m    204\u001b[0m             \u001b[0;32mexcept\u001b[0m \u001b[0mexcs_to_catch\u001b[0m\u001b[0;34m:\u001b[0m\u001b[0;34m\u001b[0m\u001b[0;34m\u001b[0m\u001b[0m\n\u001b[1;32m    205\u001b[0m                 \u001b[0;31m# e.g.\u001b[0m\u001b[0;34m\u001b[0m\u001b[0;34m\u001b[0m\u001b[0;34m\u001b[0m\u001b[0m\n",
      "\u001b[0;31mKeyboardInterrupt\u001b[0m: "
     ]
    }
   ],
   "source": [
    "# Instantiate a list to contain individual dataframes\n",
    "rdfs = []\n",
    "\n",
    "\n",
    "def compute_band_means2(df):\n",
    "    res = {}\n",
    "    \n",
    "    for k in get_keys(df[0]):\n",
    "        if not k.startswith('B'):\n",
    "            res[k] = df[0][k]\n",
    "        else:\n",
    "            #band = [np.where(x[k] < 0, np.nan, x[k]) for x in df]\n",
    "            band = [x[k] for x in df]\n",
    "            res[k] = np.nanmean(band)\n",
    "             \n",
    "    #print(res)\n",
    "    return res\n",
    "\n",
    "# Loop over our pickle files\n",
    "for pdf in tqdm(pkl_dfs):\n",
    "#for i in range(1):\n",
    "    # Read in each pickle file\n",
    "    df = list(pd.read_pickle(pdf).values())\n",
    "    #rdfs.append(df)\n",
    "    rdfs.append(compute_band_means2(df))"
   ]
  },
  {
   "cell_type": "code",
   "execution_count": 25,
   "metadata": {},
   "outputs": [
    {
     "data": {
      "text/plain": [
       "[{'patch_name': '/home/cagastya/hdd/gee_central_valley/Chico_S2SR_9_2019_39.625_-121.875',\n",
       "  'month': 9,\n",
       "  'B2': 466.06159486990674,\n",
       "  'B3': 769.5775052160039,\n",
       "  'B4': 782.8166608370152,\n",
       "  'B5': 1277.8048612133857,\n",
       "  'B6': 2277.462858165603,\n",
       "  'B7': 2692.3799077483227,\n",
       "  'B8': 2863.558517325315,\n",
       "  'B8A': 2942.5295817992146,\n",
       "  'B11': 2054.6815449599085,\n",
       "  'B12': 1330.4899604197349}]"
      ]
     },
     "execution_count": 25,
     "metadata": {},
     "output_type": "execute_result"
    }
   ],
   "source": [
    "rdfs"
   ]
  },
  {
   "cell_type": "markdown",
   "metadata": {
    "colab_type": "text",
    "id": "cDualB-d3EMd"
   },
   "source": [
    "### Read Metadata\n",
    "First we will explore some metadata. We cannot read the totality of our dataframes in at once because we are RAM limited. So we will do it in steps. The data is still uploading to Google Drive, so let's just get the infrastructure in place first."
   ]
  },
  {
   "cell_type": "code",
   "execution_count": 28,
   "metadata": {},
   "outputs": [
    {
     "name": "stderr",
     "output_type": "stream",
     "text": [
      "100%|██████████| 79/79 [02:02<00:00,  1.56s/it]\n"
     ]
    }
   ],
   "source": [
    "import numpy as np\n",
    "\n",
    "# Make sure the dataframe is deleted before trying to read in each of the individual dataframes\n",
    "if 'total_df' in locals():\n",
    "  del total_df\n",
    "\n",
    "def get_keys(d):\n",
    "    #print(d.keys())\n",
    "    return list(d.keys())\n",
    "    \n",
    "def compute_band_means(df):\n",
    "    res = {}\n",
    "    \n",
    "    for k in get_keys(df[0]):\n",
    "        if not k.startswith('B'):\n",
    "            res[k] = df[0][k]\n",
    "        else:\n",
    "            res[k] = np.mean([x[k] for x in df])\n",
    "    #print(res)\n",
    "    return res\n",
    "\n",
    "# Instantiate a list to contain individual dataframes\n",
    "dfs = []\n",
    "\n",
    "# Loop over our pickle files\n",
    "for pdf in tqdm(pkl_dfs):\n",
    "    # Read in each pickle file\n",
    "    df = list(pd.read_pickle(pdf).values())\n",
    "    dfs.append(compute_band_means(df))\n"
   ]
  },
  {
   "cell_type": "code",
   "execution_count": 29,
   "metadata": {},
   "outputs": [
    {
     "data": {
      "text/html": [
       "<div>\n",
       "<style scoped>\n",
       "    .dataframe tbody tr th:only-of-type {\n",
       "        vertical-align: middle;\n",
       "    }\n",
       "\n",
       "    .dataframe tbody tr th {\n",
       "        vertical-align: top;\n",
       "    }\n",
       "\n",
       "    .dataframe thead th {\n",
       "        text-align: right;\n",
       "    }\n",
       "</style>\n",
       "<table border=\"1\" class=\"dataframe\">\n",
       "  <thead>\n",
       "    <tr style=\"text-align: right;\">\n",
       "      <th></th>\n",
       "      <th>patch_name</th>\n",
       "      <th>month</th>\n",
       "      <th>B2</th>\n",
       "      <th>B3</th>\n",
       "      <th>B4</th>\n",
       "      <th>B5</th>\n",
       "      <th>B6</th>\n",
       "      <th>B7</th>\n",
       "      <th>B8</th>\n",
       "      <th>B8A</th>\n",
       "      <th>B11</th>\n",
       "      <th>B12</th>\n",
       "    </tr>\n",
       "  </thead>\n",
       "  <tbody>\n",
       "    <tr>\n",
       "      <th>0</th>\n",
       "      <td>/home/cagastya/hdd/gee_central_valley/Chico_S2...</td>\n",
       "      <td>9</td>\n",
       "      <td>466.061595</td>\n",
       "      <td>769.577505</td>\n",
       "      <td>782.816661</td>\n",
       "      <td>1277.804861</td>\n",
       "      <td>2277.462858</td>\n",
       "      <td>2692.379908</td>\n",
       "      <td>2863.558517</td>\n",
       "      <td>2942.529582</td>\n",
       "      <td>2054.681545</td>\n",
       "      <td>1330.489960</td>\n",
       "    </tr>\n",
       "    <tr>\n",
       "      <th>1</th>\n",
       "      <td>/home/cagastya/hdd/gee_central_valley/Modesto_...</td>\n",
       "      <td>11</td>\n",
       "      <td>655.809842</td>\n",
       "      <td>888.271671</td>\n",
       "      <td>1073.736781</td>\n",
       "      <td>1313.922827</td>\n",
       "      <td>1675.602987</td>\n",
       "      <td>1841.400783</td>\n",
       "      <td>1973.890035</td>\n",
       "      <td>2034.730701</td>\n",
       "      <td>2293.881985</td>\n",
       "      <td>1884.897805</td>\n",
       "    </tr>\n",
       "    <tr>\n",
       "      <th>2</th>\n",
       "      <td>/home/cagastya/hdd/gee_central_valley/Bakersfi...</td>\n",
       "      <td>9</td>\n",
       "      <td>897.380866</td>\n",
       "      <td>1289.851596</td>\n",
       "      <td>1528.086730</td>\n",
       "      <td>1911.141248</td>\n",
       "      <td>2590.135290</td>\n",
       "      <td>2907.561489</td>\n",
       "      <td>3063.887163</td>\n",
       "      <td>3157.429187</td>\n",
       "      <td>3285.829570</td>\n",
       "      <td>2564.077367</td>\n",
       "    </tr>\n",
       "    <tr>\n",
       "      <th>3</th>\n",
       "      <td>/home/cagastya/hdd/gee_central_valley/Merced_S...</td>\n",
       "      <td>4</td>\n",
       "      <td>530.050492</td>\n",
       "      <td>792.777851</td>\n",
       "      <td>918.097144</td>\n",
       "      <td>1402.458747</td>\n",
       "      <td>2177.829775</td>\n",
       "      <td>2507.145438</td>\n",
       "      <td>2719.413477</td>\n",
       "      <td>2849.830679</td>\n",
       "      <td>2476.764277</td>\n",
       "      <td>1562.709350</td>\n",
       "    </tr>\n",
       "    <tr>\n",
       "      <th>4</th>\n",
       "      <td>/home/cagastya/hdd/gee_central_valley/Modesto_...</td>\n",
       "      <td>10</td>\n",
       "      <td>642.745278</td>\n",
       "      <td>937.109638</td>\n",
       "      <td>1188.935104</td>\n",
       "      <td>1543.553952</td>\n",
       "      <td>2048.621431</td>\n",
       "      <td>2292.195918</td>\n",
       "      <td>2561.798822</td>\n",
       "      <td>2587.219757</td>\n",
       "      <td>2785.551162</td>\n",
       "      <td>1995.116633</td>\n",
       "    </tr>\n",
       "  </tbody>\n",
       "</table>\n",
       "</div>"
      ],
      "text/plain": [
       "                                          patch_name  month          B2  \\\n",
       "0  /home/cagastya/hdd/gee_central_valley/Chico_S2...      9  466.061595   \n",
       "1  /home/cagastya/hdd/gee_central_valley/Modesto_...     11  655.809842   \n",
       "2  /home/cagastya/hdd/gee_central_valley/Bakersfi...      9  897.380866   \n",
       "3  /home/cagastya/hdd/gee_central_valley/Merced_S...      4  530.050492   \n",
       "4  /home/cagastya/hdd/gee_central_valley/Modesto_...     10  642.745278   \n",
       "\n",
       "            B3           B4           B5           B6           B7  \\\n",
       "0   769.577505   782.816661  1277.804861  2277.462858  2692.379908   \n",
       "1   888.271671  1073.736781  1313.922827  1675.602987  1841.400783   \n",
       "2  1289.851596  1528.086730  1911.141248  2590.135290  2907.561489   \n",
       "3   792.777851   918.097144  1402.458747  2177.829775  2507.145438   \n",
       "4   937.109638  1188.935104  1543.553952  2048.621431  2292.195918   \n",
       "\n",
       "            B8          B8A          B11          B12  \n",
       "0  2863.558517  2942.529582  2054.681545  1330.489960  \n",
       "1  1973.890035  2034.730701  2293.881985  1884.897805  \n",
       "2  3063.887163  3157.429187  3285.829570  2564.077367  \n",
       "3  2719.413477  2849.830679  2476.764277  1562.709350  \n",
       "4  2561.798822  2587.219757  2785.551162  1995.116633  "
      ]
     },
     "execution_count": 29,
     "metadata": {},
     "output_type": "execute_result"
    }
   ],
   "source": [
    "total_df = pd.DataFrame(dfs)\n",
    "total_df.head()"
   ]
  },
  {
   "cell_type": "code",
   "execution_count": null,
   "metadata": {
    "colab": {
     "base_uri": "https://localhost:8080/",
     "height": 34
    },
    "colab_type": "code",
    "executionInfo": {
     "elapsed": 604249,
     "status": "ok",
     "timestamp": 1600814211394,
     "user": {
      "displayName": "Thomas Goter",
      "photoUrl": "",
      "userId": "00883949598941594885"
     },
     "user_tz": 240
    },
    "id": "NH_3x9NE0BlS",
    "outputId": "7aecd048-4e1e-45eb-edd2-52a1b35004f1"
   },
   "outputs": [
    {
     "name": "stderr",
     "output_type": "stream",
     "text": [
      "100%|██████████| 60/60 [10:03<00:00, 10.05s/it]\n"
     ]
    }
   ],
   "source": [
    "## Make sure the dataframe is deleted before trying to read in each of the individual dataframes\n",
    "#if 'total_df' in locals():\n",
    "#  del total_df\n",
    "\n",
    "## Instantiate a list to contain individual dataframes\n",
    "#dfs = []\n",
    "\n",
    "## Loop over our pickle files\n",
    "#for pdf in tqdm(pkl_dfs):\n",
    "#  # Read in each pickle file but drop the MSI data and the predictions to fit within memory limitations\n",
    "#  dfs.append(pd.read_pickle(os.path.join(sentinel_path, pdf)).drop(['msi', 'predictions'], axis=1))\n",
    "\n",
    "## Concatenate the dataframes togethers\n",
    "#total_df = pd.concat(dfs).reset_index(drop=True)\n",
    "\n",
    "## Delete the list of dataframes to save memory\n",
    "#del dfs"
   ]
  },
  {
   "cell_type": "code",
   "execution_count": 30,
   "metadata": {
    "colab": {
     "base_uri": "https://localhost:8080/",
     "height": 297
    },
    "colab_type": "code",
    "executionInfo": {
     "elapsed": 734,
     "status": "ok",
     "timestamp": 1600815300903,
     "user": {
      "displayName": "Thomas Goter",
      "photoUrl": "",
      "userId": "00883949598941594885"
     },
     "user_tz": 240
    },
    "id": "8JBLh1WA0rSX",
    "outputId": "5fa8dbf7-03d7-4f94-8ccc-6b7fbf4d9b44"
   },
   "outputs": [
    {
     "data": {
      "text/html": [
       "<div>\n",
       "<style scoped>\n",
       "    .dataframe tbody tr th:only-of-type {\n",
       "        vertical-align: middle;\n",
       "    }\n",
       "\n",
       "    .dataframe tbody tr th {\n",
       "        vertical-align: top;\n",
       "    }\n",
       "\n",
       "    .dataframe thead th {\n",
       "        text-align: right;\n",
       "    }\n",
       "</style>\n",
       "<table border=\"1\" class=\"dataframe\">\n",
       "  <thead>\n",
       "    <tr style=\"text-align: right;\">\n",
       "      <th></th>\n",
       "      <th>month</th>\n",
       "      <th>B2</th>\n",
       "      <th>B3</th>\n",
       "      <th>B4</th>\n",
       "      <th>B5</th>\n",
       "      <th>B6</th>\n",
       "      <th>B7</th>\n",
       "      <th>B8</th>\n",
       "      <th>B8A</th>\n",
       "      <th>B11</th>\n",
       "      <th>B12</th>\n",
       "    </tr>\n",
       "  </thead>\n",
       "  <tbody>\n",
       "    <tr>\n",
       "      <th>count</th>\n",
       "      <td>79.000000</td>\n",
       "      <td>79.000000</td>\n",
       "      <td>79.000000</td>\n",
       "      <td>79.000000</td>\n",
       "      <td>79.000000</td>\n",
       "      <td>79.000000</td>\n",
       "      <td>79.000000</td>\n",
       "      <td>79.000000</td>\n",
       "      <td>79.000000</td>\n",
       "      <td>79.000000</td>\n",
       "      <td>79.000000</td>\n",
       "    </tr>\n",
       "    <tr>\n",
       "      <th>mean</th>\n",
       "      <td>6.708861</td>\n",
       "      <td>704.066031</td>\n",
       "      <td>1013.662560</td>\n",
       "      <td>1177.396698</td>\n",
       "      <td>1559.415758</td>\n",
       "      <td>2271.823718</td>\n",
       "      <td>2570.590655</td>\n",
       "      <td>2729.778848</td>\n",
       "      <td>2782.582092</td>\n",
       "      <td>2633.260001</td>\n",
       "      <td>1960.124207</td>\n",
       "    </tr>\n",
       "    <tr>\n",
       "      <th>std</th>\n",
       "      <td>3.076594</td>\n",
       "      <td>275.446338</td>\n",
       "      <td>341.972757</td>\n",
       "      <td>469.329506</td>\n",
       "      <td>439.344539</td>\n",
       "      <td>405.986918</td>\n",
       "      <td>462.807666</td>\n",
       "      <td>453.409184</td>\n",
       "      <td>465.306707</td>\n",
       "      <td>570.621540</td>\n",
       "      <td>593.458900</td>\n",
       "    </tr>\n",
       "    <tr>\n",
       "      <th>min</th>\n",
       "      <td>1.000000</td>\n",
       "      <td>233.002412</td>\n",
       "      <td>403.936806</td>\n",
       "      <td>464.053654</td>\n",
       "      <td>784.569760</td>\n",
       "      <td>1361.212705</td>\n",
       "      <td>1491.846075</td>\n",
       "      <td>1656.833323</td>\n",
       "      <td>1667.395576</td>\n",
       "      <td>1372.780258</td>\n",
       "      <td>845.943840</td>\n",
       "    </tr>\n",
       "    <tr>\n",
       "      <th>25%</th>\n",
       "      <td>4.000000</td>\n",
       "      <td>554.982913</td>\n",
       "      <td>826.954618</td>\n",
       "      <td>878.008321</td>\n",
       "      <td>1316.090424</td>\n",
       "      <td>2049.707873</td>\n",
       "      <td>2269.784307</td>\n",
       "      <td>2441.554634</td>\n",
       "      <td>2435.797561</td>\n",
       "      <td>2188.692367</td>\n",
       "      <td>1570.661929</td>\n",
       "    </tr>\n",
       "    <tr>\n",
       "      <th>50%</th>\n",
       "      <td>6.000000</td>\n",
       "      <td>666.483910</td>\n",
       "      <td>948.049736</td>\n",
       "      <td>1118.906852</td>\n",
       "      <td>1508.805197</td>\n",
       "      <td>2278.584109</td>\n",
       "      <td>2657.023523</td>\n",
       "      <td>2795.689919</td>\n",
       "      <td>2870.802903</td>\n",
       "      <td>2678.541768</td>\n",
       "      <td>1916.204306</td>\n",
       "    </tr>\n",
       "    <tr>\n",
       "      <th>75%</th>\n",
       "      <td>9.000000</td>\n",
       "      <td>788.724417</td>\n",
       "      <td>1121.767014</td>\n",
       "      <td>1371.649689</td>\n",
       "      <td>1734.846743</td>\n",
       "      <td>2508.437570</td>\n",
       "      <td>2865.091856</td>\n",
       "      <td>3021.531510</td>\n",
       "      <td>3079.226460</td>\n",
       "      <td>2979.518048</td>\n",
       "      <td>2237.210463</td>\n",
       "    </tr>\n",
       "    <tr>\n",
       "      <th>max</th>\n",
       "      <td>12.000000</td>\n",
       "      <td>2175.356310</td>\n",
       "      <td>2844.896448</td>\n",
       "      <td>3522.679379</td>\n",
       "      <td>3792.920461</td>\n",
       "      <td>3818.323131</td>\n",
       "      <td>3950.427554</td>\n",
       "      <td>4055.023076</td>\n",
       "      <td>3977.472990</td>\n",
       "      <td>4852.197340</td>\n",
       "      <td>4666.239329</td>\n",
       "    </tr>\n",
       "  </tbody>\n",
       "</table>\n",
       "</div>"
      ],
      "text/plain": [
       "           month           B2           B3           B4           B5  \\\n",
       "count  79.000000    79.000000    79.000000    79.000000    79.000000   \n",
       "mean    6.708861   704.066031  1013.662560  1177.396698  1559.415758   \n",
       "std     3.076594   275.446338   341.972757   469.329506   439.344539   \n",
       "min     1.000000   233.002412   403.936806   464.053654   784.569760   \n",
       "25%     4.000000   554.982913   826.954618   878.008321  1316.090424   \n",
       "50%     6.000000   666.483910   948.049736  1118.906852  1508.805197   \n",
       "75%     9.000000   788.724417  1121.767014  1371.649689  1734.846743   \n",
       "max    12.000000  2175.356310  2844.896448  3522.679379  3792.920461   \n",
       "\n",
       "                B6           B7           B8          B8A          B11  \\\n",
       "count    79.000000    79.000000    79.000000    79.000000    79.000000   \n",
       "mean   2271.823718  2570.590655  2729.778848  2782.582092  2633.260001   \n",
       "std     405.986918   462.807666   453.409184   465.306707   570.621540   \n",
       "min    1361.212705  1491.846075  1656.833323  1667.395576  1372.780258   \n",
       "25%    2049.707873  2269.784307  2441.554634  2435.797561  2188.692367   \n",
       "50%    2278.584109  2657.023523  2795.689919  2870.802903  2678.541768   \n",
       "75%    2508.437570  2865.091856  3021.531510  3079.226460  2979.518048   \n",
       "max    3818.323131  3950.427554  4055.023076  3977.472990  4852.197340   \n",
       "\n",
       "               B12  \n",
       "count    79.000000  \n",
       "mean   1960.124207  \n",
       "std     593.458900  \n",
       "min     845.943840  \n",
       "25%    1570.661929  \n",
       "50%    1916.204306  \n",
       "75%    2237.210463  \n",
       "max    4666.239329  "
      ]
     },
     "execution_count": 30,
     "metadata": {},
     "output_type": "execute_result"
    }
   ],
   "source": [
    "# High Level Statistics\n",
    "sum = total_df.describe()\n",
    "sum"
   ]
  },
  {
   "cell_type": "code",
   "execution_count": 31,
   "metadata": {},
   "outputs": [
    {
     "data": {
      "text/plain": [
       "{'mean': {'month': 6.708860759493671,\n",
       "  'B2': 704.0660306667106,\n",
       "  'B3': 1013.6625595886348,\n",
       "  'B4': 1177.3966978795684,\n",
       "  'B5': 1559.4157583764888,\n",
       "  'B6': 2271.823718038332,\n",
       "  'B7': 2570.590654856275,\n",
       "  'B8': 2729.77884789601,\n",
       "  'B8A': 2782.5820922432317,\n",
       "  'B11': 2633.2600006272755,\n",
       "  'B12': 1960.1242074549111},\n",
       " 'std': {'month': 3.0765944323027594,\n",
       "  'B2': 275.44633762623107,\n",
       "  'B3': 341.9727574411451,\n",
       "  'B4': 469.3295063736902,\n",
       "  'B5': 439.3445385554108,\n",
       "  'B6': 405.9869176625257,\n",
       "  'B7': 462.80766566429446,\n",
       "  'B8': 453.4091836811935,\n",
       "  'B8A': 465.3067073795589,\n",
       "  'B11': 570.6215399891606,\n",
       "  'B12': 593.4589000748651}}"
      ]
     },
     "execution_count": 31,
     "metadata": {},
     "output_type": "execute_result"
    }
   ],
   "source": [
    "sum_data = sum.loc[['mean', 'std']].T.to_dict()\n",
    "sum_data"
   ]
  },
  {
   "cell_type": "code",
   "execution_count": 32,
   "metadata": {},
   "outputs": [],
   "source": [
    "# dump summary to pickle file\n",
    "import pickle\n",
    "filename = os.path.join('/home/cagastya/MIDS_Capstone/data', 'central_valley_summary.pickle')\n",
    "with open(filename, 'wb') as handle:\n",
    "    pickle.dump(sum_data, handle, protocol=pickle.HIGHEST_PROTOCOL)"
   ]
  },
  {
   "cell_type": "code",
   "execution_count": 33,
   "metadata": {},
   "outputs": [
    {
     "data": {
      "text/plain": [
       "True"
      ]
     },
     "execution_count": 33,
     "metadata": {},
     "output_type": "execute_result"
    }
   ],
   "source": [
    "with open(filename, 'rb') as handle:\n",
    "    b = pickle.load(handle)\n",
    "    \n",
    "sum_data == b"
   ]
  },
  {
   "cell_type": "markdown",
   "metadata": {
    "colab_type": "text",
    "id": "cZrOlYsr9niU"
   },
   "source": [
    "### Function for Summarizing Key Statistics\n",
    "- Land area of California from [Brittanica](https://www.britannica.com/place/California-state)\n",
    "- Cropland area from [California Department of Food and Agriculture](https://www.cdfa.ca.gov/statistics/PDFs/2018-2019AgReportnass.pdf)\n",
    "- 2013 Estimate of Irrigated Cropland in CA from [Federation of American Scientists](https://fas.org/sgp/crs/misc/R44093.pdf)\n",
    "\n",
    "\n"
   ]
  },
  {
   "cell_type": "code",
   "execution_count": 35,
   "metadata": {
    "colab": {},
    "colab_type": "code",
    "id": "QjnEs7Qt1wPh"
   },
   "outputs": [],
   "source": [
    "def summarize_metadata(df):\n",
    "  '''\n",
    "  '''\n",
    "\n",
    "  MONTHS = {1:'January',\n",
    "            2:'February',\n",
    "            3:'March',\n",
    "            4:'April',\n",
    "            5:'May',\n",
    "            6:'June',\n",
    "            7:'July',\n",
    "            8:'August',\n",
    "            9:'September',\n",
    "            10:'October',\n",
    "            11:'November',\n",
    "            12:'December'}\n",
    "\n",
    "  CMAP = get_cmap('tab20').colors\n",
    "\n",
    "  CALIFORNIA_AREA = 423967 # square kms\n",
    "  CALIFORNIA_CROPLAND = 6.75e7 / 640 * 2.59 # acres to sq miles to sq kms\n",
    "  CALIFORNIA_IRRIGATED_AREA = 7.9e6 / 640 * 2.59 # acres to sq miles to sq kms\n",
    "\n",
    "  # Number of images - each image exists for 11 or 12 months of 2018\n",
    "  num_imgs = len(df)\n",
    "\n",
    "  # Each image is 120 x 120 pixels\n",
    "  # There are 99 small images per base image\n",
    "  # Thus, we use 0.9155 of the base image\n",
    "  # At our latitude and longitude the 0.25 x 0.25 degree region\n",
    "  # is about 616.55 km2\n",
    "  # June present for all images\n",
    "  unique_area = 616.55*0.9155 / 99 * len(df[df.month==6])\n",
    "\n",
    "   \n",
    "  print(10*'*' + 'SUMMARY' + 10*'*')\n",
    "  print(f'Number of 120x120 10-channel \"images\" to process:\\t{num_imgs}')\n",
    "  print(f'Total Land Area in California:\\t\\t\\t\\t{CALIFORNIA_AREA} sq. km')\n",
    "  print(f'Total Cropland Area in California:\\t\\t\\t{CALIFORNIA_CROPLAND:.0f} sq. km')\n",
    "  print(f'Area Covered in Images:\\t\\t\\t\\t\\t{unique_area} sq. km')\n",
    "  print(f'Fraction of California Area Covered in Images:\\t\\t{unique_area / CALIFORNIA_AREA:.3f} ')\n",
    "  print(f'Fraction of Sample Irrigated:\\t\\t\\t\\t{irrigated_area:.3f} ')\n",
    "  print(f'Estimated Irrigated Fraction of Land In California:\\t{CALIFORNIA_IRRIGATED_AREA/CALIFORNIA_AREA:.3f}')\n",
    "  print(2*'\\n')\n",
    "  \n",
    "  # Generate Plot of Irrigated Land Fraction by Month\n",
    "  avg_irr_by_month = total_df.groupby(['month']).tot_irr_locs.mean()\n",
    "  fig, ax = plt.subplots(1,1, figsize=(10,5))\n",
    "  ax.bar(x=[MONTHS[m] for m in avg_irr_by_month.index],\n",
    "         height=avg_irr_by_month.values/10000,\n",
    "         color=CMAP, edgecolor='black')\n",
    "  ax.set_xticklabels([MONTHS[m] for m in avg_irr_by_month.index],\n",
    "                     rotation=45, fontsize=11,fontweight='bold')\n",
    "  ax.set_yticklabels([f'{n:.2f}' for n in np.arange(0.0,0.18,0.02)],\n",
    "                     fontsize=11,fontweight='bold')\n",
    "  ax.set_title('Mean Fraction of Land Irrigated by Month',fontsize=16,fontweight='bold')\n",
    "\n",
    "  print(2*'\\n')\n",
    "\n",
    "  # Histogram of Irrigated Locations by Month\n",
    "  irr_by_month = total_df.groupby(['month']).tot_irr_locs\n",
    "  fig, axes = plt.subplots(2,6,figsize=(20,10), sharex=True, sharey=True)\n",
    "  axes = axes.flatten()\n",
    "  for g, group in irr_by_month:\n",
    "    group = group / 10000\n",
    "    group.hist(ax=axes[g-1], bins=20, color='tab:green', ec='black')\n",
    "    axes[g-1].set_title(f'{MONTHS[g]}', fontweight='bold', fontsize=11)\n",
    "  plt.tight_layout()\n",
    "  plt.suptitle('Distribution of Irrigated Fraction by Month', y=1.02, fontsize=16, fontweight='bold')\n",
    "\n",
    "\n"
   ]
  },
  {
   "cell_type": "markdown",
   "metadata": {
    "colab_type": "text",
    "id": "gEigy2v68IEl"
   },
   "source": [
    "### Top Level Summary"
   ]
  },
  {
   "cell_type": "code",
   "execution_count": 36,
   "metadata": {
    "colab": {
     "base_uri": "https://localhost:8080/",
     "height": 1000
    },
    "colab_type": "code",
    "executionInfo": {
     "elapsed": 5512,
     "status": "ok",
     "timestamp": 1600815312674,
     "user": {
      "displayName": "Thomas Goter",
      "photoUrl": "",
      "userId": "00883949598941594885"
     },
     "user_tz": 240
    },
    "id": "vYkSXlle8hWf",
    "outputId": "9981d53b-853a-4ffe-9372-b1ebc9298c40",
    "scrolled": true
   },
   "outputs": [
    {
     "name": "stdout",
     "output_type": "stream",
     "text": [
      "**********SUMMARY**********\n",
      "Number of 120x120 10-channel \"images\" to process:\t79\n",
      "Total Land Area in California:\t\t\t\t423967 sq. km\n",
      "Total Cropland Area in California:\t\t\t273164 sq. km\n",
      "Area Covered in Images:\t\t\t\t\t79.82142777777777 sq. km\n",
      "Fraction of California Area Covered in Images:\t\t0.000 \n"
     ]
    },
    {
     "ename": "NameError",
     "evalue": "name 'irrigated_area' is not defined",
     "output_type": "error",
     "traceback": [
      "\u001b[0;31m---------------------------------------------------------------------------\u001b[0m",
      "\u001b[0;31mNameError\u001b[0m                                 Traceback (most recent call last)",
      "\u001b[0;32m<ipython-input-36-314b15698745>\u001b[0m in \u001b[0;36m<module>\u001b[0;34m\u001b[0m\n\u001b[0;32m----> 1\u001b[0;31m \u001b[0msummarize_metadata\u001b[0m\u001b[0;34m(\u001b[0m\u001b[0mtotal_df\u001b[0m\u001b[0;34m)\u001b[0m\u001b[0;34m\u001b[0m\u001b[0;34m\u001b[0m\u001b[0m\n\u001b[0m",
      "\u001b[0;32m<ipython-input-35-ac3b8a91a15d>\u001b[0m in \u001b[0;36msummarize_metadata\u001b[0;34m(df)\u001b[0m\n\u001b[1;32m     40\u001b[0m   \u001b[0mprint\u001b[0m\u001b[0;34m(\u001b[0m\u001b[0;34mf'Area Covered in Images:\\t\\t\\t\\t\\t{unique_area} sq. km'\u001b[0m\u001b[0;34m)\u001b[0m\u001b[0;34m\u001b[0m\u001b[0;34m\u001b[0m\u001b[0m\n\u001b[1;32m     41\u001b[0m   \u001b[0mprint\u001b[0m\u001b[0;34m(\u001b[0m\u001b[0;34mf'Fraction of California Area Covered in Images:\\t\\t{unique_area / CALIFORNIA_AREA:.3f} '\u001b[0m\u001b[0;34m)\u001b[0m\u001b[0;34m\u001b[0m\u001b[0;34m\u001b[0m\u001b[0m\n\u001b[0;32m---> 42\u001b[0;31m   \u001b[0mprint\u001b[0m\u001b[0;34m(\u001b[0m\u001b[0;34mf'Fraction of Sample Irrigated:\\t\\t\\t\\t{irrigated_area:.3f} '\u001b[0m\u001b[0;34m)\u001b[0m\u001b[0;34m\u001b[0m\u001b[0;34m\u001b[0m\u001b[0m\n\u001b[0m\u001b[1;32m     43\u001b[0m   \u001b[0mprint\u001b[0m\u001b[0;34m(\u001b[0m\u001b[0;34mf'Estimated Irrigated Fraction of Land In California:\\t{CALIFORNIA_IRRIGATED_AREA/CALIFORNIA_AREA:.3f}'\u001b[0m\u001b[0;34m)\u001b[0m\u001b[0;34m\u001b[0m\u001b[0;34m\u001b[0m\u001b[0m\n\u001b[1;32m     44\u001b[0m   \u001b[0mprint\u001b[0m\u001b[0;34m(\u001b[0m\u001b[0;36m2\u001b[0m\u001b[0;34m*\u001b[0m\u001b[0;34m'\\n'\u001b[0m\u001b[0;34m)\u001b[0m\u001b[0;34m\u001b[0m\u001b[0;34m\u001b[0m\u001b[0m\n",
      "\u001b[0;31mNameError\u001b[0m: name 'irrigated_area' is not defined"
     ]
    }
   ],
   "source": [
    "summarize_metadata(total_df)"
   ]
  },
  {
   "cell_type": "code",
   "execution_count": 34,
   "metadata": {
    "colab": {
     "base_uri": "https://localhost:8080/",
     "height": 712
    },
    "colab_type": "code",
    "executionInfo": {
     "elapsed": 764,
     "status": "ok",
     "timestamp": 1600815315806,
     "user": {
      "displayName": "Thomas Goter",
      "photoUrl": "",
      "userId": "00883949598941594885"
     },
     "user_tz": 240
    },
    "id": "Uxna7zUQZUnd",
    "outputId": "a1006f71-7ced-44e9-83bb-70b80c32b864"
   },
   "outputs": [
    {
     "ename": "AttributeError",
     "evalue": "'DataFrame' object has no attribute 'lat'",
     "output_type": "error",
     "traceback": [
      "\u001b[0;31m---------------------------------------------------------------------------\u001b[0m",
      "\u001b[0;31mAttributeError\u001b[0m                            Traceback (most recent call last)",
      "\u001b[0;32m<ipython-input-34-4c9941a72697>\u001b[0m in \u001b[0;36m<module>\u001b[0;34m\u001b[0m\n\u001b[1;32m      1\u001b[0m \u001b[0;31m# Create interactive map with default basemap\u001b[0m\u001b[0;34m\u001b[0m\u001b[0;34m\u001b[0m\u001b[0;34m\u001b[0m\u001b[0m\n\u001b[1;32m      2\u001b[0m map_osm = folium.Map(\n\u001b[0;32m----> 3\u001b[0;31m     \u001b[0mlocation\u001b[0m\u001b[0;34m=\u001b[0m\u001b[0;34m[\u001b[0m\u001b[0mtotal_df\u001b[0m\u001b[0;34m.\u001b[0m\u001b[0mlat\u001b[0m\u001b[0;34m.\u001b[0m\u001b[0mmedian\u001b[0m\u001b[0;34m(\u001b[0m\u001b[0;34m)\u001b[0m\u001b[0;34m,\u001b[0m \u001b[0mtotal_df\u001b[0m\u001b[0;34m.\u001b[0m\u001b[0mlon\u001b[0m\u001b[0;34m.\u001b[0m\u001b[0mmedian\u001b[0m\u001b[0;34m(\u001b[0m\u001b[0;34m)\u001b[0m\u001b[0;34m]\u001b[0m\u001b[0;34m,\u001b[0m\u001b[0;34m\u001b[0m\u001b[0;34m\u001b[0m\u001b[0m\n\u001b[0m\u001b[1;32m      4\u001b[0m     \u001b[0mzoom_start\u001b[0m\u001b[0;34m=\u001b[0m\u001b[0;36m8\u001b[0m\u001b[0;34m,\u001b[0m\u001b[0;34m\u001b[0m\u001b[0;34m\u001b[0m\u001b[0m\n\u001b[1;32m      5\u001b[0m     \u001b[0mtiles\u001b[0m\u001b[0;34m=\u001b[0m\u001b[0;34m'Stamen Terrain'\u001b[0m\u001b[0;34m\u001b[0m\u001b[0;34m\u001b[0m\u001b[0m\n",
      "\u001b[0;32m~/.local/lib/python3.8/site-packages/pandas/core/generic.py\u001b[0m in \u001b[0;36m__getattr__\u001b[0;34m(self, name)\u001b[0m\n\u001b[1;32m   5460\u001b[0m             \u001b[0;32mif\u001b[0m \u001b[0mself\u001b[0m\u001b[0;34m.\u001b[0m\u001b[0m_info_axis\u001b[0m\u001b[0;34m.\u001b[0m\u001b[0m_can_hold_identifiers_and_holds_name\u001b[0m\u001b[0;34m(\u001b[0m\u001b[0mname\u001b[0m\u001b[0;34m)\u001b[0m\u001b[0;34m:\u001b[0m\u001b[0;34m\u001b[0m\u001b[0;34m\u001b[0m\u001b[0m\n\u001b[1;32m   5461\u001b[0m                 \u001b[0;32mreturn\u001b[0m \u001b[0mself\u001b[0m\u001b[0;34m[\u001b[0m\u001b[0mname\u001b[0m\u001b[0;34m]\u001b[0m\u001b[0;34m\u001b[0m\u001b[0;34m\u001b[0m\u001b[0m\n\u001b[0;32m-> 5462\u001b[0;31m             \u001b[0;32mreturn\u001b[0m \u001b[0mobject\u001b[0m\u001b[0;34m.\u001b[0m\u001b[0m__getattribute__\u001b[0m\u001b[0;34m(\u001b[0m\u001b[0mself\u001b[0m\u001b[0;34m,\u001b[0m \u001b[0mname\u001b[0m\u001b[0;34m)\u001b[0m\u001b[0;34m\u001b[0m\u001b[0;34m\u001b[0m\u001b[0m\n\u001b[0m\u001b[1;32m   5463\u001b[0m \u001b[0;34m\u001b[0m\u001b[0m\n\u001b[1;32m   5464\u001b[0m     \u001b[0;32mdef\u001b[0m \u001b[0m__setattr__\u001b[0m\u001b[0;34m(\u001b[0m\u001b[0mself\u001b[0m\u001b[0;34m,\u001b[0m \u001b[0mname\u001b[0m\u001b[0;34m:\u001b[0m \u001b[0mstr\u001b[0m\u001b[0;34m,\u001b[0m \u001b[0mvalue\u001b[0m\u001b[0;34m)\u001b[0m \u001b[0;34m->\u001b[0m \u001b[0;32mNone\u001b[0m\u001b[0;34m:\u001b[0m\u001b[0;34m\u001b[0m\u001b[0;34m\u001b[0m\u001b[0m\n",
      "\u001b[0;31mAttributeError\u001b[0m: 'DataFrame' object has no attribute 'lat'"
     ]
    }
   ],
   "source": [
    "# Create interactive map with default basemap\n",
    "map_osm = folium.Map(\n",
    "    location=[total_df.lat.median(), total_df.lon.median()],\n",
    "    zoom_start=8,\n",
    "    tiles='Stamen Terrain'\n",
    ")\n",
    "\n",
    "centers = total_df.groupby(['lat']).lon.unique()\n",
    "month_counts = total_df.groupby(['lat']).month.unique()\n",
    "for l, lat in enumerate(centers.index):\n",
    "  for lon in centers[l]:\n",
    "\n",
    "    folium.Rectangle(\n",
    "    bounds=[(float(lat)-0.125, float(lon)-0.125), (float(lat)+0.125, float(lon)+0.125)],\n",
    "    popup=f'{lat}, {lon}\\n{len(month_counts[l])} months',\n",
    "    color='#708090',\n",
    "    fill=True,\n",
    "    fill_color='#708090'\n",
    "    ).add_to(map_osm)\n",
    "\n",
    "map_osm"
   ]
  },
  {
   "cell_type": "code",
   "execution_count": null,
   "metadata": {
    "colab": {},
    "colab_type": "code",
    "id": "AqVbvtRIafG6"
   },
   "outputs": [],
   "source": []
  }
 ],
 "metadata": {
  "colab": {
   "name": "integrated_eda.ipynb",
   "provenance": []
  },
  "kernelspec": {
   "display_name": "Python 3",
   "language": "python",
   "name": "python3"
  },
  "language_info": {
   "codemirror_mode": {
    "name": "ipython",
    "version": 3
   },
   "file_extension": ".py",
   "mimetype": "text/x-python",
   "name": "python",
   "nbconvert_exporter": "python",
   "pygments_lexer": "ipython3",
   "version": "3.8.5"
  }
 },
 "nbformat": 4,
 "nbformat_minor": 1
}
